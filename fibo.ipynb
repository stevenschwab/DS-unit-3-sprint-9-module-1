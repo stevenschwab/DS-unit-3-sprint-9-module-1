{
  "nbformat": 4,
  "nbformat_minor": 0,
  "metadata": {
    "colab": {
      "provenance": []
    },
    "kernelspec": {
      "name": "python3",
      "display_name": "Python 3"
    },
    "language_info": {
      "name": "python"
    }
  },
  "cells": [
    {
      "cell_type": "code",
      "execution_count": 1,
      "metadata": {
        "id": "pMTEScad2Udg"
      },
      "outputs": [],
      "source": [
        "# Fibonacci numbers module\n",
        "def fib(n): # write Fibonacci series up to n\n",
        "  a, b = 0, 1\n",
        "  while a < n:\n",
        "    print(a, end=' ')\n",
        "    a, b = b, a+b\n",
        "  print()\n",
        "\n",
        "def fib2(n): # return Fibonacci series up to n\n",
        "  result = []\n",
        "  a, b = 0, 1\n",
        "  while a < n:\n",
        "    result.append(a)\n",
        "    a, b = b, a+b\n",
        "  return result"
      ]
    }
  ]
}